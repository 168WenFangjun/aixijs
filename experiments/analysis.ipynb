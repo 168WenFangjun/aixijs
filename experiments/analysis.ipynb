{
 "cells": [
  {
   "cell_type": "code",
   "execution_count": 138,
   "metadata": {
    "collapsed": false,
    "scrolled": false
   },
   "outputs": [],
   "source": [
    "%matplotlib inline\n",
    "import numpy as np\n",
    "import matplotlib.pyplot as plt\n",
    "import json\n",
    "\n",
    "fig = plt.figure(figsize=(12,8),dpi=200)\n",
    "directory = 'aixi'\n",
    "files = ['Shannon','AIXI','Thompson']\n",
    "colors = ['green','blue','red']\n",
    "for i in xrange(len(files)):\n",
    "    f = files[i]\n",
    "    color = colors[i]\n",
    "    alpha = 0.2\n",
    "    file = open(directory + '/' + f.lower() + '.json')\n",
    "    data = json.load(file)\n",
    "    A = np.zeros((data[0]['cycles'],len(data)))\n",
    "    for j in xrange(len(data)):\n",
    "        d = data[j]\n",
    "        A[:,j] = np.array(d['rewards'])\n",
    "\n",
    "    mu = np.mean(A,1)\n",
    "    sigma = np.std(A,1)\n",
    "    a = np.max(np.vstack((mu-sigma,np.min(A,1))),0)\n",
    "    b = sigma+mu\n",
    "    plt.plot(a,color=color,alpha=alpha)\n",
    "    plt.plot(b,color=color,alpha=alpha)\n",
    "    plt.plot(mu,color=color,label=f)\n",
    "    plt.fill_between(np.arange(200),a,b,alpha=alpha,color=color)\n",
    "\n",
    "plt.title('Average reward')\n",
    "plt.xlabel('Cycles')\n",
    "plt.ylabel('Average reward')\n",
    "plt.legend(loc='upper left')\n",
    "plt.savefig('aixi/plot.png', bbox_inches='tight')\n",
    "plt.close(fig)"
   ]
  },
  {
   "cell_type": "code",
   "execution_count": null,
   "metadata": {
    "collapsed": true
   },
   "outputs": [],
   "source": []
  }
 ],
 "metadata": {
  "kernelspec": {
   "display_name": "Python 2",
   "language": "python",
   "name": "python2"
  },
  "language_info": {
   "codemirror_mode": {
    "name": "ipython",
    "version": 2
   },
   "file_extension": ".py",
   "mimetype": "text/x-python",
   "name": "python",
   "nbconvert_exporter": "python",
   "pygments_lexer": "ipython2",
   "version": "2.7.6"
  }
 },
 "nbformat": 4,
 "nbformat_minor": 0
}
