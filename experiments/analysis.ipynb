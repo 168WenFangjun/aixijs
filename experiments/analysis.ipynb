{
 "cells": [
  {
   "cell_type": "code",
   "execution_count": 31,
   "metadata": {
    "collapsed": false,
    "scrolled": false
   },
   "outputs": [],
   "source": [
    "%matplotlib inline\n",
    "import numpy as np\n",
    "import matplotlib.pyplot as plt\n",
    "import json\n",
    "\n",
    "#directory = 'ksa'; objective = 'explored'; y_axis = 'Exploration (%)'\n",
    "directory = 'dogmatic'; objective = 'rewards'; y_axis = 'Average reward'\n",
    "\n",
    "file = open(directory + '/results.json')\n",
    "data = json.load(file)\n",
    "file.close()\n",
    "colors = ['green','blue','red','orange','black','pink','grey','purple']\n",
    "agents = {'BayesAgent':r'AI$\\xi$',\n",
    "          'Knowledge-seeking agent':'Kullback-Leibler',\n",
    "          'KullbackLeiblerKSA':'Kullback-Leibler',\n",
    "          'ShannonKSA':'Shannon',\n",
    "          'SquareKSA':'Square',\n",
    "          'Shannon KSA':'Shannon',\n",
    "          'Square KSA':'Square',\n",
    "          'ThompsonAgent':'Thompson',\n",
    "          'QLearn':'Q-Learning',\n",
    "          'MC-AIMU': r'$\\kappa = 50$',\n",
    "          'MC-AIMU-1': r'$\\kappa = 100$',\n",
    "          'MC-AIMU-2': r'$\\kappa = 400$',\n",
    "          'MC-AIMU-3': r'$\\kappa = 800$',\n",
    "          'MC-AIMU-4': r'$\\kappa = 2000$',\n",
    "          'MC-AIMU-5': r'$\\kappa = 1$',\n",
    "          'MC-AIMU-6': r'$\\kappa = 10$',\n",
    "          'MC-AIMU-7': r'$\\kappa = 20$',\n",
    "          'Time inconsistency':r'$C = 0.01$',\n",
    "          'Time inconsistency-1':r'$C = 0.05$',\n",
    "          'Time inconsistency-2':r'$C = 0.1$',\n",
    "          'Time inconsistency-3':r'$C = 0.5$',\n",
    "          'Time inconsistency-4':r'$C = 1$',\n",
    "          'Time inconsistency-5':r'$C = 5$',\n",
    "          'Time inconsistency-6':r'$C = 10$',\n",
    "         }\n",
    "\n",
    "fig = plt.figure(figsize=(12,8),dpi=200)\n",
    "for i,k in enumerate(data):\n",
    "    try:\n",
    "        d = data[k]\n",
    "    except KeyError:\n",
    "        continue\n",
    "    color = colors[i]\n",
    "    alpha = 0.2    \n",
    "    A = np.zeros((d[0]['cycles'],len(d)))\n",
    "    for j in xrange(len(d)):\n",
    "        A[:,j] = np.array(d[j][objective])\n",
    "\n",
    "    mu = np.mean(A,1)\n",
    "    sigma = np.std(A,1)\n",
    "    a = np.max(np.vstack((mu-sigma,np.min(A,1))),0)\n",
    "    b = sigma+mu\n",
    "    if k in agents:\n",
    "        k = agents[k]\n",
    "    #plt.plot(a,color=color,alpha=alpha)\n",
    "    #plt.plot(b,color=color,alpha=alpha)\n",
    "    plt.plot(mu,label=k,color=color,lw=3)\n",
    "    #plt.fill_between(np.arange(len(mu)),a,b,alpha=alpha,color=color)\n",
    "\n",
    "    \n",
    "kek = np.zeros(200)\n",
    "kek[0] = 0\n",
    "for i in xrange(1,200):\n",
    "    if i < 7:\n",
    "        kek[i] = kek[i-1] \n",
    "    else:\n",
    "        kek[i] = kek[i-1] + 166.7\n",
    "for i in xrange(1,200):\n",
    "    kek[i] /= (i+1)\n",
    "\n",
    "plt.plot(kek,lw=3,ls='dashed',color='black',label='Optimal')\n",
    "\n",
    "def f(st):\n",
    "    try:\n",
    "        return float(st.split(' ')[2].replace('$',''))\n",
    "    except (ValueError,IndexError):\n",
    "        return 99999\n",
    "\n",
    "plt.title(y_axis)\n",
    "plt.xlabel('Cycles')\n",
    "plt.ylabel(y_axis)\n",
    "#plt.legend(loc='upper left')\n",
    "ax = plt.gca()\n",
    "handles, labels = ax.get_legend_handles_labels()\n",
    "# sort both labels and handles by labels\n",
    "labels, handles = zip(*sorted(zip(labels, handles), key=lambda t: f(t[0])))\n",
    "ax.legend(handles, labels,loc='lower right')\n",
    "plt.savefig(directory + '/plot.png', bbox_inches='tight')\n",
    "plt.close()"
   ]
  },
  {
   "cell_type": "code",
   "execution_count": 27,
   "metadata": {
    "collapsed": false
   },
   "outputs": [],
   "source": [
    "N = 1e3\n",
    "x = np.linspace(1/N,1,N)\n",
    "y = -np.log(x)\n",
    "z = -x\n",
    "\n",
    "fig = plt.figure(figsize=(10,5),dpi=200)\n",
    "plt.title(r'Utility functions for Square and Shannon KSA, as a function of $\\xi$')\n",
    "plt.xlabel(r'$\\xi$')\n",
    "plt.ylabel(r'$u(\\xi)$')\n",
    "plt.plot(x,y,label=r'$-log(\\xi)$',lw=3)\n",
    "plt.plot(x,z,label=r'$-\\xi$',lw=3)\n",
    "plt.legend(loc='upper right')\n",
    "plt.savefig('../../../thesis/figures/square-shannon-utility')\n",
    "plt.close()"
   ]
  },
  {
   "cell_type": "code",
   "execution_count": 6,
   "metadata": {
    "collapsed": false
   },
   "outputs": [
    {
     "name": "stdout",
     "output_type": "stream",
     "text": [
      "[ -1.          -1.          -1.          -1.          -1.          -1.          -1.\n",
      "  -1.           7.44444444  14.2         19.72727273  24.33333333\n",
      "  28.23076923  31.57142857  34.46666667  37.          39.23529412\n",
      "  41.22222222  43.          44.6         46.04761905  47.36363636\n",
      "  48.56521739  49.66666667  50.68        51.61538462  52.48148148\n",
      "  53.28571429  54.03448276  54.73333333  55.38709677  56.          56.57575758\n",
      "  57.11764706  57.62857143  58.11111111  58.56756757  59.          59.41025641\n",
      "  59.8         60.17073171  60.52380952  60.86046512  61.18181818\n",
      "  61.48888889  61.7826087   62.06382979  62.33333333  62.59183673  62.84\n",
      "  63.07843137  63.30769231  63.52830189  63.74074074  63.94545455\n",
      "  64.14285714  64.33333333  64.51724138  64.69491525  64.86666667\n",
      "  65.03278689  65.19354839  65.34920635  65.5         65.64615385\n",
      "  65.78787879  65.92537313  66.05882353  66.1884058   66.31428571\n",
      "  66.43661972  66.55555556  66.67123288  66.78378378  66.89333333  67.\n",
      "  67.1038961   67.20512821  67.30379747  67.4         67.49382716\n",
      "  67.58536585  67.6746988   67.76190476  67.84705882  67.93023256\n",
      "  68.01149425  68.09090909  68.16853933  68.24444444  68.31868132\n",
      "  68.39130435  68.46236559  68.53191489  68.6         68.66666667\n",
      "  68.73195876  68.79591837  68.85858586  68.92        68.98019802\n",
      "  69.03921569  69.09708738  69.15384615  69.20952381  69.26415094\n",
      "  69.31775701  69.37037037  69.42201835  69.47272727  69.52252252\n",
      "  69.57142857  69.61946903  69.66666667  69.71304348  69.75862069\n",
      "  69.8034188   69.84745763  69.8907563   69.93333333  69.97520661\n",
      "  70.01639344  70.05691057  70.09677419  70.136       70.17460317\n",
      "  70.21259843  70.25        70.28682171  70.32307692  70.35877863\n",
      "  70.39393939  70.42857143  70.46268657  70.4962963   70.52941176\n",
      "  70.5620438   70.5942029   70.62589928  70.65714286  70.68794326\n",
      "  70.71830986  70.74825175  70.77777778  70.80689655  70.83561644\n",
      "  70.86394558  70.89189189  70.91946309  70.94666667  70.97350993  71.\n",
      "  71.02614379  71.05194805  71.07741935  71.1025641   71.12738854\n",
      "  71.15189873  71.17610063  71.2         71.22360248  71.24691358\n",
      "  71.26993865  71.29268293  71.31515152  71.3373494   71.35928144\n",
      "  71.38095238  71.40236686  71.42352941  71.44444444  71.46511628\n",
      "  71.48554913  71.50574713  71.52571429  71.54545455  71.56497175\n",
      "  71.58426966  71.60335196  71.62222222  71.64088398  71.65934066\n",
      "  71.67759563  71.69565217  71.71351351  71.7311828   71.7486631\n",
      "  71.76595745  71.78306878  71.8         71.81675393  71.83333333\n",
      "  71.84974093  71.86597938  71.88205128  71.89795918  71.91370558\n",
      "  71.92929293  71.94472362  71.96      ]\n"
     ]
    }
   ],
   "source": [
    "kek = np.zeros(200)\n",
    "kek[0] = -1\n",
    "for i in xrange(1,200):\n",
    "    if i < 8:\n",
    "        kek[i] = kek[i-1] - 1\n",
    "    else:\n",
    "        kek[i] = kek[i-1] + 75\n",
    "for i in xrange(1,200):\n",
    "    kek[i] /= (i+1)"
   ]
  },
  {
   "cell_type": "code",
   "execution_count": 24,
   "metadata": {
    "collapsed": false
   },
   "outputs": [
    {
     "data": {
      "text/plain": [
       "0.03"
      ]
     },
     "execution_count": 24,
     "metadata": {},
     "output_type": "execute_result"
    }
   ],
   "source": [
    "float('0.03')"
   ]
  },
  {
   "cell_type": "code",
   "execution_count": null,
   "metadata": {
    "collapsed": true
   },
   "outputs": [],
   "source": []
  }
 ],
 "metadata": {
  "kernelspec": {
   "display_name": "Python 2",
   "language": "python",
   "name": "python2"
  },
  "language_info": {
   "codemirror_mode": {
    "name": "ipython",
    "version": 2
   },
   "file_extension": ".py",
   "mimetype": "text/x-python",
   "name": "python",
   "nbconvert_exporter": "python",
   "pygments_lexer": "ipython2",
   "version": "2.7.11"
  }
 },
 "nbformat": 4,
 "nbformat_minor": 0
}
