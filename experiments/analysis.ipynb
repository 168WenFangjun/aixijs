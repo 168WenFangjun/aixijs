{
 "cells": [
  {
   "cell_type": "code",
   "execution_count": 23,
   "metadata": {
    "collapsed": false,
    "scrolled": false
   },
   "outputs": [],
   "source": [
    "%matplotlib inline\n",
    "import numpy as np\n",
    "import matplotlib.pyplot as plt\n",
    "import json\n",
    "\n",
    "fig = plt.figure(figsize=(12,8),dpi=200)\n",
    "directory = 'aixi'\n",
    "file = open(directory + '/results.json')\n",
    "data = json.load(file)\n",
    "colors = ['green','blue','red','yellow','black','grey','pink']\n",
    "agents = {'BayesAgent':r'AI$\\xi$','KullbackLeiblerKSA':'Kullback-Leibler','ShannonKSA':'Shannon','SquareKSA':'Square','ThompsonAgent':'Thompson','QLearn':'Q-Learning'}\n",
    "for i,k in enumerate(agents):\n",
    "    d = data[k]\n",
    "    color = colors[i]\n",
    "    alpha = 0.2    \n",
    "    A = np.zeros((d[0]['cycles'],len(d)))\n",
    "    for j in xrange(len(d)):\n",
    "        A[:,j] = np.array(d[j]['rewards'])\n",
    "\n",
    "    mu = np.mean(A,1)\n",
    "    sigma = np.std(A,1)\n",
    "    a = np.max(np.vstack((mu-sigma,np.min(A,1))),0)\n",
    "    b = sigma+mu\n",
    "    plt.plot(a,color=color,alpha=alpha)\n",
    "    plt.plot(b,color=color,alpha=alpha)\n",
    "    plt.plot(mu,color=color,label=agents[k],lw=3)\n",
    "    plt.fill_between(np.arange(len(mu)),a,b,alpha=alpha,color=color)\n",
    "\n",
    "plt.title('Average reward')\n",
    "plt.xlabel('Cycles')\n",
    "plt.ylabel('Average reward')\n",
    "plt.legend(loc='upper left')\n",
    "plt.savefig('aixi/plot.png', bbox_inches='tight')\n",
    "plt.close(fig)"
   ]
  },
  {
   "cell_type": "code",
   "execution_count": null,
   "metadata": {
    "collapsed": true
   },
   "outputs": [],
   "source": []
  }
 ],
 "metadata": {
  "kernelspec": {
   "display_name": "Python 2",
   "language": "python",
   "name": "python2"
  },
  "language_info": {
   "codemirror_mode": {
    "name": "ipython",
    "version": 2
   },
   "file_extension": ".py",
   "mimetype": "text/x-python",
   "name": "python",
   "nbconvert_exporter": "python",
   "pygments_lexer": "ipython2",
   "version": "2.7.6"
  }
 },
 "nbformat": 4,
 "nbformat_minor": 0
}
