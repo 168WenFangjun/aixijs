{
 "cells": [
  {
   "cell_type": "code",
   "execution_count": 7,
   "metadata": {
    "collapsed": false
   },
   "outputs": [],
   "source": [
    "%matplotlib inline\n",
    "import numpy as np\n",
    "import matplotlib.pyplot as plt\n",
    "\n",
    "def plotShit(filename,label):\n",
    "    file = open(filename + '.txt')\n",
    "    dets = file.readline()\n",
    "    dat = file.readline()\n",
    "    dat = dat.replace('[','')\n",
    "    dat = dat.replace(']','')\n",
    "    dat = dat.split(',')\n",
    "    dat = map(int,dat)\n",
    "\n",
    "    kek = np.array(dat)\n",
    "    kek = kek.reshape((20,200))\n",
    "    wtf = np.mean(kek,axis=0)\n",
    "    return plt.plot(wtf,label=label,lw=2)\n",
    "fig = plt.figure(num=None, figsize=(12,8), dpi=200)\n",
    "a, = plotShit('exp01','AIXI')\n",
    "b, = plotShit('exp02','Thompson Sampling')\n",
    "c, = plotShit('exp03','Square KSA')\n",
    "d, = plotShit('exp04','Shannon KSA')\n",
    "e, = plotShit('exp05','Q-Learning')\n",
    "plt.legend(handles=[c,d,a,b,e],loc=2,fontsize=15)\n",
    "plt.xlabel('Cycles',fontsize=15)\n",
    "plt.ylabel('Total reward',fontsize=15)\n",
    "plt.title('7x7 Grid, Performance averaged over 20 runs',fontsize=20)\n",
    "plt.savefig('../../../figures/agent-comparison-dispenser.png',bbox_inches='tight')\n",
    "plt.close(fig)"
   ]
  },
  {
   "cell_type": "code",
   "execution_count": null,
   "metadata": {
    "collapsed": true
   },
   "outputs": [],
   "source": []
  }
 ],
 "metadata": {
  "kernelspec": {
   "display_name": "Python 2",
   "language": "python",
   "name": "python2"
  },
  "language_info": {
   "codemirror_mode": {
    "name": "ipython",
    "version": 2
   },
   "file_extension": ".py",
   "mimetype": "text/x-python",
   "name": "python",
   "nbconvert_exporter": "python",
   "pygments_lexer": "ipython2",
   "version": "2.7.11"
  }
 },
 "nbformat": 4,
 "nbformat_minor": 0
}
