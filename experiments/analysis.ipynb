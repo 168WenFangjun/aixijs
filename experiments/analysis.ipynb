{
 "cells": [
  {
   "cell_type": "code",
   "execution_count": 8,
   "metadata": {
    "collapsed": false,
    "scrolled": false
   },
   "outputs": [],
   "source": [
    "%matplotlib inline\n",
    "import numpy as np\n",
    "import matplotlib.pyplot as plt\n",
    "import json\n",
    "\n",
    "directory = 'ksa'; objective = 'explored'; y_axis = 'Exploration (%)'\n",
    "#directory = 'aixi-models'; objective = 'rewards'; y_axis = 'Average reward'\n",
    "\n",
    "file = open(directory + '/results.json')\n",
    "data = json.load(file)\n",
    "file.close()\n",
    "colors = ['green','blue','red','orange','black','pink','grey']\n",
    "agents = {'BayesAgent':r'AI$\\xi$',\n",
    "          'Knowledge-seeking agent':'Kullback-Leibler',\n",
    "          'KullbackLeiblerKSA':'Kullback-Leibler',\n",
    "          'ShannonKSA':'Shannon',\n",
    "          'SquareKSA':'Square',\n",
    "          'Shannon KSA':'Shannon',\n",
    "          'Square KSA':'Square',\n",
    "          'ThompsonAgent':'Thompson',\n",
    "          'QLearn':'Q-Learning'}\n",
    "\n",
    "fig = plt.figure(figsize=(12,8),dpi=200)\n",
    "for i,k in enumerate(data):\n",
    "    try:\n",
    "        d = data[k]\n",
    "    except KeyError:\n",
    "        continue\n",
    "    color = colors[i]\n",
    "    alpha = 0.2    \n",
    "    A = np.zeros((d[0]['cycles'],len(d)))\n",
    "    for j in xrange(len(d)):\n",
    "        A[:,j] = np.array(d[j][objective])\n",
    "\n",
    "    mu = np.mean(A,1)\n",
    "    sigma = np.std(A,1)\n",
    "    a = np.max(np.vstack((mu-sigma,np.min(A,1))),0)\n",
    "    b = sigma+mu\n",
    "    if k in agents:\n",
    "        k = agents[k]\n",
    "    plt.plot(a,color=color,alpha=alpha)\n",
    "    plt.plot(b,color=color,alpha=alpha)\n",
    "    plt.plot(mu,label=k,color=color,lw=3)\n",
    "    plt.fill_between(np.arange(len(mu)),a,b,alpha=alpha,color=color)\n",
    "\n",
    "plt.title(y_axis)\n",
    "plt.xlabel('Cycles')\n",
    "plt.ylabel(y_axis)\n",
    "plt.legend(loc='upper left')\n",
    "plt.savefig(directory + '/plot.png', bbox_inches='tight')\n",
    "plt.close()"
   ]
  },
  {
   "cell_type": "code",
   "execution_count": 27,
   "metadata": {
    "collapsed": false
   },
   "outputs": [],
   "source": [
    "N = 1e3\n",
    "x = np.linspace(1/N,1,N)\n",
    "y = -np.log(x)\n",
    "z = -x\n",
    "\n",
    "fig = plt.figure(figsize=(10,5),dpi=200)\n",
    "plt.title(r'Utility functions for Square and Shannon KSA, as a function of $\\xi$')\n",
    "plt.xlabel(r'$\\xi$')\n",
    "plt.ylabel(r'$u(\\xi)$')\n",
    "plt.plot(x,y,label=r'$-log(\\xi)$',lw=3)\n",
    "plt.plot(x,z,label=r'$-\\xi$',lw=3)\n",
    "plt.legend(loc='upper right')\n",
    "plt.savefig('../../../thesis/figures/square-shannon-utility')\n",
    "plt.close()"
   ]
  },
  {
   "cell_type": "code",
   "execution_count": null,
   "metadata": {
    "collapsed": true
   },
   "outputs": [],
   "source": []
  }
 ],
 "metadata": {
  "kernelspec": {
   "display_name": "Python 2",
   "language": "python",
   "name": "python2"
  },
  "language_info": {
   "codemirror_mode": {
    "name": "ipython",
    "version": 2
   },
   "file_extension": ".py",
   "mimetype": "text/x-python",
   "name": "python",
   "nbconvert_exporter": "python",
   "pygments_lexer": "ipython2",
   "version": "2.7.11"
  }
 },
 "nbformat": 4,
 "nbformat_minor": 0
}
